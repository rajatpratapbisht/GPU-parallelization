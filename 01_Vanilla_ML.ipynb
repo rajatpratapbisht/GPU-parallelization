{
 "cells": [
  {
   "cell_type": "markdown",
   "id": "0ebcfe1c",
   "metadata": {},
   "source": [
    "### Vanilla Machine Learning Notebook\n",
    "This notebook is created to get information on naive implementation of Neural Network (agents). This will be then compared to parallelization techniques used in industry for improved learning efficiency and quick convergence. "
   ]
  },
  {
   "cell_type": "code",
   "execution_count": 41,
   "id": "d544968c",
   "metadata": {},
   "outputs": [],
   "source": [
    "import torch\n",
    "import torch.nn as nn\n",
    "import torch.optim as optim\n",
    "from torch.utils.data import DataLoader\n",
    "from torchvision import datasets, transforms\n",
    "# data rendering\n",
    "import matplotlib.pyplot as plt\n",
    "import numpy as np\n",
    "\n",
    "import time\n"
   ]
  },
  {
   "cell_type": "code",
   "execution_count": 42,
   "id": "22f38460",
   "metadata": {},
   "outputs": [
    {
     "data": {
      "text/plain": [
       "<torch._C.Generator at 0x7fadd5cfe670>"
      ]
     },
     "execution_count": 42,
     "metadata": {},
     "output_type": "execute_result"
    }
   ],
   "source": [
    "# set random seed for reproducability\n",
    "torch.manual_seed(42)"
   ]
  },
  {
   "cell_type": "code",
   "execution_count": 43,
   "id": "b331950c",
   "metadata": {},
   "outputs": [
    {
     "name": "stdout",
     "output_type": "stream",
     "text": [
      "Using device: cuda\n"
     ]
    }
   ],
   "source": [
    "# Check if CUDA is available and set the device accordingly\n",
    "device = torch.device('cuda' if torch.cuda.is_available() else 'cpu')\n",
    "print(f\"Using device: {device}\")\n"
   ]
  },
  {
   "cell_type": "code",
   "execution_count": 44,
   "id": "f2b622db",
   "metadata": {},
   "outputs": [],
   "source": [
    "batch_size = 128"
   ]
  },
  {
   "cell_type": "code",
   "execution_count": 45,
   "id": "d66bdce5",
   "metadata": {},
   "outputs": [],
   "source": [
    "# Load MNIST dataset with PyTorch\n",
    "transform = transforms.Compose([\n",
    "    transforms.ToTensor(),\n",
    "    transforms.Normalize((0.1307,), (0.3081,))  # MNIST mean and stdev\n",
    "])\n",
    "\n",
    "# Download training data\n",
    "train_dataset = datasets.MNIST(root='./data', train=True, download=True, transform=transform)\n",
    "train_loader = DataLoader(train_dataset, batch_size=batch_size, shuffle=True)\n",
    "\n",
    "# Download test data\n",
    "test_dataset = datasets.MNIST(root='./data', train=False, download=True, transform=transform)\n",
    "test_loader = DataLoader(test_dataset, batch_size=batch_size, shuffle=False)\n",
    "\n",
    "\n"
   ]
  },
  {
   "cell_type": "code",
   "execution_count": 46,
   "id": "65679d1c",
   "metadata": {},
   "outputs": [],
   "source": [
    "# i = 10\n",
    "# # test data\n",
    "# images, labels = next(iter(train_loader))\n",
    "# img = images[i]\n",
    "# label = labels[i]\n",
    "\n",
    "# # plot image\n",
    "# plt.imshow(img.squeeze(), cmap=\"gray\")\n",
    "# plt.title(f\"Label: {label.item()}\")\n",
    "# plt.axis(\"off\")\n",
    "# plt.show\n",
    "    "
   ]
  },
  {
   "cell_type": "code",
   "execution_count": 47,
   "id": "851ba539",
   "metadata": {},
   "outputs": [],
   "source": [
    "# Simple Neural net implementation (no convolution)\n",
    "class SimpleNN(nn.Module):\n",
    "    def __init__(self):\n",
    "        super(SimpleNN, self).__init__()\n",
    "        # flatten the 28x28 images\n",
    "        self.flatten = nn.Flatten()\n",
    "        self.relu = nn.ReLU()\n",
    "        self.ff1 = nn.Linear(28*28, 128)    # 28*28 -> 128\n",
    "        self.ff2 = nn.Linear(128, 64)       # 128 -> 64\n",
    "        self.ff3 = nn.Linear(64, 10)        # 64 -> 10\n",
    "        \n",
    "    def forward(self, x):\n",
    "        # forward pass\n",
    "        x = self.flatten(x)\n",
    "        x = self.relu(self.ff1(x))\n",
    "        x = self.relu(self.ff2(x))\n",
    "        x = self.ff3(x)\n",
    "        return x\n",
    "    \n",
    "                \n",
    "        \n"
   ]
  },
  {
   "cell_type": "code",
   "execution_count": 48,
   "id": "2b7a7929",
   "metadata": {},
   "outputs": [
    {
     "name": "stdout",
     "output_type": "stream",
     "text": [
      "SimpleNN(\n",
      "  (flatten): Flatten(start_dim=1, end_dim=-1)\n",
      "  (relu): ReLU()\n",
      "  (ff1): Linear(in_features=784, out_features=128, bias=True)\n",
      "  (ff2): Linear(in_features=128, out_features=64, bias=True)\n",
      "  (ff3): Linear(in_features=64, out_features=10, bias=True)\n",
      ")\n"
     ]
    }
   ],
   "source": [
    "model = SimpleNN().to(device)\n",
    "print(model)"
   ]
  },
  {
   "cell_type": "code",
   "execution_count": 49,
   "id": "0b686c5d",
   "metadata": {},
   "outputs": [],
   "source": [
    "#hyper-parameters\n",
    "learning_rate = 0.001\n",
    "num_epochs = 20\n",
    "\n",
    "criterion = nn.CrossEntropyLoss()\n",
    "optimizer = optim.SGD(model.parameters(), lr=learning_rate)\n"
   ]
  },
  {
   "cell_type": "code",
   "execution_count": 50,
   "id": "ebd76600",
   "metadata": {},
   "outputs": [],
   "source": [
    "# training loop\n",
    "train_losses = []\n",
    "train_accs = []\n",
    "val_losses = []\n",
    "val_accs = []"
   ]
  },
  {
   "cell_type": "code",
   "execution_count": 51,
   "id": "36139b82",
   "metadata": {},
   "outputs": [],
   "source": [
    "# Training\n",
    "def train(epoch):\n",
    "    model.train()\n",
    "    running_loss = 0.0\n",
    "    correct = 0\n",
    "    total = 0\n",
    "    \n",
    "    for batch_idx, (data, target) in enumerate(train_loader):\n",
    "        # Move data to the device (CPU or GPU)\n",
    "        data, target = data.to(device), target.to(device)\n",
    "        \n",
    "        # Zero the parameter gradients\n",
    "        optimizer.zero_grad()\n",
    "        \n",
    "        # fwd pass\n",
    "        outputs = model(data)\n",
    "        loss = criterion(outputs, target)\n",
    "        \n",
    "        # backward pass\n",
    "        loss.backward()\n",
    "        optimizer.step()\n",
    "        \n",
    "        # track stats\n",
    "        running_loss += loss.item()\n",
    "        _, predicted = torch.max(outputs.data, 1)\n",
    "        total += target.size(0)\n",
    "        correct += (predicted == target).sum().item()\n",
    "        \n",
    "        # print stats every 100 batches\n",
    "        if batch_idx % 100 == 00:\n",
    "            print(f'Epoch: {epoch+1}, Batch: {batch_idx+1}, Loss: {running_loss/100:.4f}, '\n",
    "                  f'Accuracy: {100 * correct/total:.2f}%')\n",
    "            running_loss = 0.0\n",
    "    \n",
    "    # Calculate epoch statistics\n",
    "    train_loss = running_loss / len(train_loader)\n",
    "    train_acc = 100 * correct / total\n",
    "    train_losses.append(train_loss)\n",
    "    train_accs.append(train_acc)\n",
    "    \n",
    "    return train_loss, train_acc\n",
    "        "
   ]
  },
  {
   "cell_type": "code",
   "execution_count": 52,
   "id": "a81ac169",
   "metadata": {},
   "outputs": [],
   "source": [
    "# Testing\n",
    "def test():\n",
    "    model.eval()\n",
    "    test_loss = 0\n",
    "    correct = 0\n",
    "    total = 0\n",
    "    \n",
    "    with torch.no_grad():\n",
    "        for data, target in test_loader:\n",
    "            # Move data to the device (CPU or GPU)\n",
    "            data, target = data.to(device), target.to(device)\n",
    "            \n",
    "            outputs = model(data)\n",
    "            loss = criterion(outputs, target)\n",
    "            \n",
    "            test_loss += loss.item()\n",
    "            _, predicted = torch.max(outputs.data, 1)\n",
    "            total += target.size(0)\n",
    "            correct += (predicted == target).sum().item()\n",
    "    \n",
    "    test_loss /= len(test_loader)\n",
    "    test_acc = 100 * correct / total\n",
    "    val_losses.append(test_loss)\n",
    "    val_accs.append(test_acc)\n",
    "    \n",
    "    print(f'Test Loss: {test_loss:.4f}, Test Accuracy: {test_acc:.2f}%')\n",
    "    return test_loss, test_acc\n"
   ]
  },
  {
   "cell_type": "code",
   "execution_count": 53,
   "id": "d13f02bb",
   "metadata": {},
   "outputs": [
    {
     "name": "stdout",
     "output_type": "stream",
     "text": [
      "Epoch: 1, Batch: 1, Loss: 0.0231, Accuracy: 10.94%\n",
      "Epoch: 1, Batch: 101, Loss: 2.3082, Accuracy: 9.57%\n",
      "Epoch: 1, Batch: 201, Loss: 2.2723, Accuracy: 10.67%\n",
      "Epoch: 1, Batch: 301, Loss: 2.2383, Accuracy: 13.47%\n",
      "Epoch: 1, Batch: 401, Loss: 2.2020, Accuracy: 17.73%\n",
      "Test Loss: 2.1499, Test Accuracy: 43.66%\n",
      "Epoch: 2, Batch: 1, Loss: 0.0217, Accuracy: 39.06%\n",
      "Epoch: 2, Batch: 101, Loss: 2.1319, Accuracy: 45.90%\n",
      "Epoch: 2, Batch: 201, Loss: 2.0837, Accuracy: 48.95%\n",
      "Epoch: 2, Batch: 301, Loss: 2.0329, Accuracy: 50.76%\n",
      "Epoch: 2, Batch: 401, Loss: 1.9729, Accuracy: 52.00%\n",
      "Test Loss: 1.8849, Test Accuracy: 57.38%\n",
      "Epoch: 3, Batch: 1, Loss: 0.0190, Accuracy: 62.50%\n",
      "Epoch: 3, Batch: 101, Loss: 1.8577, Accuracy: 56.81%\n",
      "Epoch: 3, Batch: 201, Loss: 1.7896, Accuracy: 57.33%\n",
      "Epoch: 3, Batch: 301, Loss: 1.7168, Accuracy: 58.36%\n",
      "Epoch: 3, Batch: 401, Loss: 1.6285, Accuracy: 59.60%\n",
      "Test Loss: 1.5167, Test Accuracy: 67.15%\n",
      "Epoch: 4, Batch: 1, Loss: 0.0153, Accuracy: 70.31%\n",
      "Epoch: 4, Batch: 101, Loss: 1.4834, Accuracy: 69.20%\n",
      "Epoch: 4, Batch: 201, Loss: 1.3982, Accuracy: 70.57%\n",
      "Epoch: 4, Batch: 301, Loss: 1.3438, Accuracy: 71.27%\n",
      "Epoch: 4, Batch: 401, Loss: 1.2578, Accuracy: 72.30%\n",
      "Test Loss: 1.1408, Test Accuracy: 79.34%\n",
      "Epoch: 5, Batch: 1, Loss: 0.0114, Accuracy: 78.91%\n",
      "Epoch: 5, Batch: 101, Loss: 1.1199, Accuracy: 78.81%\n",
      "Epoch: 5, Batch: 201, Loss: 1.0698, Accuracy: 78.93%\n",
      "Epoch: 5, Batch: 301, Loss: 1.0060, Accuracy: 79.41%\n",
      "Epoch: 5, Batch: 401, Loss: 0.9612, Accuracy: 79.68%\n",
      "Test Loss: 0.8784, Test Accuracy: 82.45%\n",
      "Epoch: 6, Batch: 1, Loss: 0.0095, Accuracy: 78.12%\n",
      "Epoch: 6, Batch: 101, Loss: 0.8794, Accuracy: 81.61%\n",
      "Epoch: 6, Batch: 201, Loss: 0.8445, Accuracy: 81.93%\n",
      "Epoch: 6, Batch: 301, Loss: 0.8031, Accuracy: 82.27%\n",
      "Epoch: 6, Batch: 401, Loss: 0.7765, Accuracy: 82.37%\n",
      "Test Loss: 0.7197, Test Accuracy: 84.42%\n",
      "Epoch: 7, Batch: 1, Loss: 0.0070, Accuracy: 85.94%\n",
      "Epoch: 7, Batch: 101, Loss: 0.7360, Accuracy: 83.40%\n",
      "Epoch: 7, Batch: 201, Loss: 0.7003, Accuracy: 83.85%\n",
      "Epoch: 7, Batch: 301, Loss: 0.6785, Accuracy: 83.95%\n",
      "Epoch: 7, Batch: 401, Loss: 0.6609, Accuracy: 84.12%\n",
      "Test Loss: 0.6194, Test Accuracy: 85.83%\n",
      "Epoch: 8, Batch: 1, Loss: 0.0060, Accuracy: 86.72%\n",
      "Epoch: 8, Batch: 101, Loss: 0.6359, Accuracy: 84.87%\n",
      "Epoch: 8, Batch: 201, Loss: 0.6143, Accuracy: 85.13%\n",
      "Epoch: 8, Batch: 301, Loss: 0.6013, Accuracy: 85.23%\n",
      "Epoch: 8, Batch: 401, Loss: 0.5857, Accuracy: 85.40%\n",
      "Test Loss: 0.5515, Test Accuracy: 86.66%\n",
      "Epoch: 9, Batch: 1, Loss: 0.0050, Accuracy: 91.41%\n",
      "Epoch: 9, Batch: 101, Loss: 0.5707, Accuracy: 86.07%\n",
      "Epoch: 9, Batch: 201, Loss: 0.5552, Accuracy: 86.31%\n",
      "Epoch: 9, Batch: 301, Loss: 0.5474, Accuracy: 86.33%\n",
      "Epoch: 9, Batch: 401, Loss: 0.5269, Accuracy: 86.49%\n",
      "Test Loss: 0.5026, Test Accuracy: 87.54%\n",
      "Epoch: 10, Batch: 1, Loss: 0.0047, Accuracy: 87.50%\n",
      "Epoch: 10, Batch: 101, Loss: 0.5270, Accuracy: 86.29%\n",
      "Epoch: 10, Batch: 201, Loss: 0.5151, Accuracy: 86.79%\n",
      "Epoch: 10, Batch: 301, Loss: 0.4954, Accuracy: 86.98%\n",
      "Epoch: 10, Batch: 401, Loss: 0.4883, Accuracy: 87.14%\n",
      "Test Loss: 0.4664, Test Accuracy: 88.02%\n",
      "Epoch: 11, Batch: 1, Loss: 0.0049, Accuracy: 85.94%\n",
      "Epoch: 11, Batch: 101, Loss: 0.4915, Accuracy: 87.35%\n",
      "Epoch: 11, Batch: 201, Loss: 0.4755, Accuracy: 87.55%\n",
      "Epoch: 11, Batch: 301, Loss: 0.4629, Accuracy: 87.69%\n",
      "Epoch: 11, Batch: 401, Loss: 0.4710, Accuracy: 87.78%\n",
      "Test Loss: 0.4389, Test Accuracy: 88.71%\n",
      "Epoch: 12, Batch: 1, Loss: 0.0040, Accuracy: 93.75%\n",
      "Epoch: 12, Batch: 101, Loss: 0.4526, Accuracy: 88.34%\n",
      "Epoch: 12, Batch: 201, Loss: 0.4580, Accuracy: 88.18%\n",
      "Epoch: 12, Batch: 301, Loss: 0.4435, Accuracy: 88.27%\n",
      "Epoch: 12, Batch: 401, Loss: 0.4427, Accuracy: 88.23%\n",
      "Test Loss: 0.4171, Test Accuracy: 89.16%\n",
      "Epoch: 13, Batch: 1, Loss: 0.0045, Accuracy: 85.16%\n",
      "Epoch: 13, Batch: 101, Loss: 0.4361, Accuracy: 88.42%\n",
      "Epoch: 13, Batch: 201, Loss: 0.4311, Accuracy: 88.43%\n",
      "Epoch: 13, Batch: 301, Loss: 0.4260, Accuracy: 88.49%\n",
      "Epoch: 13, Batch: 401, Loss: 0.4182, Accuracy: 88.57%\n",
      "Test Loss: 0.3994, Test Accuracy: 89.51%\n",
      "Epoch: 14, Batch: 1, Loss: 0.0029, Accuracy: 96.09%\n",
      "Epoch: 14, Batch: 101, Loss: 0.4253, Accuracy: 88.61%\n",
      "Epoch: 14, Batch: 201, Loss: 0.4018, Accuracy: 88.90%\n",
      "Epoch: 14, Batch: 301, Loss: 0.4095, Accuracy: 88.85%\n",
      "Epoch: 14, Batch: 401, Loss: 0.4093, Accuracy: 88.91%\n",
      "Test Loss: 0.3853, Test Accuracy: 89.74%\n",
      "Epoch: 15, Batch: 1, Loss: 0.0038, Accuracy: 90.62%\n",
      "Epoch: 15, Batch: 101, Loss: 0.3964, Accuracy: 89.25%\n",
      "Epoch: 15, Batch: 201, Loss: 0.3984, Accuracy: 89.22%\n",
      "Epoch: 15, Batch: 301, Loss: 0.3967, Accuracy: 89.18%\n",
      "Epoch: 15, Batch: 401, Loss: 0.3936, Accuracy: 89.21%\n",
      "Test Loss: 0.3731, Test Accuracy: 89.94%\n",
      "Epoch: 16, Batch: 1, Loss: 0.0034, Accuracy: 89.84%\n",
      "Epoch: 16, Batch: 101, Loss: 0.3966, Accuracy: 89.16%\n",
      "Epoch: 16, Batch: 201, Loss: 0.3858, Accuracy: 89.30%\n",
      "Epoch: 16, Batch: 301, Loss: 0.3853, Accuracy: 89.32%\n",
      "Epoch: 16, Batch: 401, Loss: 0.3759, Accuracy: 89.40%\n",
      "Test Loss: 0.3625, Test Accuracy: 90.14%\n",
      "Epoch: 17, Batch: 1, Loss: 0.0038, Accuracy: 87.50%\n",
      "Epoch: 17, Batch: 101, Loss: 0.3741, Accuracy: 89.74%\n",
      "Epoch: 17, Batch: 201, Loss: 0.3780, Accuracy: 89.72%\n",
      "Epoch: 17, Batch: 301, Loss: 0.3703, Accuracy: 89.59%\n",
      "Epoch: 17, Batch: 401, Loss: 0.3872, Accuracy: 89.51%\n",
      "Test Loss: 0.3537, Test Accuracy: 90.24%\n",
      "Epoch: 18, Batch: 1, Loss: 0.0030, Accuracy: 91.41%\n",
      "Epoch: 18, Batch: 101, Loss: 0.3592, Accuracy: 90.01%\n",
      "Epoch: 18, Batch: 201, Loss: 0.3782, Accuracy: 89.67%\n",
      "Epoch: 18, Batch: 301, Loss: 0.3637, Accuracy: 89.78%\n",
      "Epoch: 18, Batch: 401, Loss: 0.3675, Accuracy: 89.76%\n",
      "Test Loss: 0.3457, Test Accuracy: 90.33%\n",
      "Epoch: 19, Batch: 1, Loss: 0.0031, Accuracy: 88.28%\n",
      "Epoch: 19, Batch: 101, Loss: 0.3606, Accuracy: 90.09%\n",
      "Epoch: 19, Batch: 201, Loss: 0.3658, Accuracy: 90.01%\n",
      "Epoch: 19, Batch: 301, Loss: 0.3673, Accuracy: 89.91%\n",
      "Epoch: 19, Batch: 401, Loss: 0.3481, Accuracy: 89.96%\n",
      "Test Loss: 0.3387, Test Accuracy: 90.55%\n",
      "Epoch: 20, Batch: 1, Loss: 0.0049, Accuracy: 85.16%\n",
      "Epoch: 20, Batch: 101, Loss: 0.3475, Accuracy: 90.14%\n",
      "Epoch: 20, Batch: 201, Loss: 0.3534, Accuracy: 90.20%\n",
      "Epoch: 20, Batch: 301, Loss: 0.3534, Accuracy: 90.16%\n",
      "Epoch: 20, Batch: 401, Loss: 0.3484, Accuracy: 90.21%\n",
      "Test Loss: 0.3319, Test Accuracy: 90.63%\n"
     ]
    }
   ],
   "source": [
    "# Train the model\n",
    "start_time = time.time()\n",
    "\n",
    "for epoch in range(num_epochs):\n",
    "    train_loss, train_acc = train(epoch)\n",
    "    test_loss, test_acc = test()\n",
    "\n",
    "end_time = time.time()\n"
   ]
  },
  {
   "cell_type": "code",
   "execution_count": 54,
   "id": "9cff5d6f",
   "metadata": {},
   "outputs": [
    {
     "data": {
      "image/png": "[encoded data removed]",
      "text/plain": [
       "<Figure size 640x480 with 2 Axes>"
      ]
     },
     "metadata": {},
     "output_type": "display_data"
    }
   ],
   "source": [
    "# Plot training & validation accuracy\n",
    "plt.subplot(1, 2, 1)\n",
    "plt.plot(train_accs)\n",
    "plt.plot(val_accs)\n",
    "plt.title('Model Accuracy')\n",
    "plt.ylabel('Accuracy (%)')\n",
    "plt.xlabel('Epoch')\n",
    "plt.legend(['Train', 'Validation'], loc='lower right')\n",
    "\n",
    "# Plot training & validation loss\n",
    "plt.subplot(1, 2, 2)\n",
    "plt.plot(train_losses)\n",
    "plt.plot(val_losses)\n",
    "plt.title('Model Loss')\n",
    "plt.ylabel('Loss')\n",
    "plt.xlabel('Epoch')\n",
    "plt.legend(['Train', 'Validation'], loc='upper right')\n",
    "\n",
    "plt.tight_layout()\n",
    "plt.show()\n"
   ]
  },
  {
   "cell_type": "code",
   "execution_count": 55,
   "id": "d4dc0c6d",
   "metadata": {},
   "outputs": [
    {
     "name": "stdout",
     "output_type": "stream",
     "text": [
      "Training time: 382.6086 seconds\n"
     ]
    }
   ],
   "source": [
    "print(f\"Training time: {end_time - start_time:.4f} seconds\")"
   ]
  },
  {
   "cell_type": "code",
   "execution_count": null,
   "id": "1dd9113c",
   "metadata": {},
   "outputs": [],
   "source": []
  }
 ],
 "metadata": {
  "kernelspec": {
   "display_name": ".venv",
   "language": "python",
   "name": "python3"
  },
  "language_info": {
   "codemirror_mode": {
    "name": "ipython",
    "version": 3
   },
   "file_extension": ".py",
   "mimetype": "text/x-python",
   "name": "python",
   "nbconvert_exporter": "python",
   "pygments_lexer": "ipython3",
   "version": "3.10.12"
  }
 },
 "nbformat": 4,
 "nbformat_minor": 5
}
